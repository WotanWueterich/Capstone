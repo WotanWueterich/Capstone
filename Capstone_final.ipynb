{
 "cells": [
  {
   "cell_type": "markdown",
   "metadata": {},
   "source": [
    "# Public Transport & Medical Care\n",
    "### Import required libraries"
   ]
  },
  {
   "cell_type": "code",
   "execution_count": null,
   "metadata": {},
   "outputs": [],
   "source": [
    "import requests\n",
    "import pandas as pd\n",
    "import numpy as np \n",
    "import random \n",
    "import math\n",
    "import utm\n",
    "from geopy.geocoders import Nominatim \n",
    "from pyproj import Proj\n",
    "import numpy as np\n",
    "import matplotlib.pyplot as plt\n",
    "from IPython.display import Image \n",
    "from IPython.core.display import HTML \n",
    "import numpy as np\n",
    "import matplotlib.pyplot as plt\n",
    "from pandas import json_normalize\n",
    "import folium \n",
    "import sklearn\n",
    "from sklearn import neighbors\n",
    "import seaborn as sns"
   ]
  },
  {
   "cell_type": "markdown",
   "metadata": {},
   "source": [
    "#### Define function\n",
    "##### 1. Get data for each category from Foursquare\n",
    "##### 2. Apply haversine formular\n",
    "##### 3. Filter and unpivot data frame"
   ]
  },
  {
   "cell_type": "code",
   "execution_count": 43,
   "metadata": {},
   "outputs": [],
   "source": [
    "def Citydata(city):\n",
    "    \n",
    "    \n",
    "    address = city\n",
    "    geolocator = Nominatim(user_agent=\"foursquare_agent\")\n",
    "    location = geolocator.geocode(address)\n",
    "    latitude = location.latitude\n",
    "    longitude = location.longitude\n",
    "    print(latitude, longitude)\n",
    "\n",
    "    # Getting all Doctors's Offices in desired City\n",
    "    categoryId = '4bf58dd8d48988d177941735'\n",
    "    radius = 5000\n",
    "\n",
    "    url = 'https://api.foursquare.com/v2/venues/search?client_id={}&client_secret={}&ll={},{}&oauth_token={}&v={}&categoryId={}&radius={}&limit={}'.format(CLIENT_ID, CLIENT_SECRET, latitude, longitude,ACCESS_TOKEN, VERSION, categoryId, radius, LIMIT)\n",
    "\n",
    "    results = requests.get(url).json()\n",
    "    venues = results['response']['venues']\n",
    "\n",
    "    dataframe = json_normalize(venues)\n",
    "\n",
    "    filtered_columns = ['name', 'categories'] + [col for col in dataframe.columns if col.startswith('location.')] + ['id']\n",
    "    dataframe_filtered = dataframe.loc[:, filtered_columns]\n",
    "\n",
    "    # function that extracts the category of the venue\n",
    "    def get_category_type(row):\n",
    "        try:\n",
    "            categories_list = row['categories']\n",
    "        except:\n",
    "            categories_list = row['venue.categories']\n",
    "        if len(categories_list) == 0:\n",
    "            return None\n",
    "        else:\n",
    "            return categories_list[0]['name']\n",
    "\n",
    "    # filter the category for each row\n",
    "    dataframe_filtered['categories'] = dataframe_filtered.apply(get_category_type, axis=1)\n",
    "\n",
    "    # clean column names by keeping only last term\n",
    "    dataframe_filtered.columns = [column.split('.')[-1] for column in dataframe_filtered.columns]\n",
    "\n",
    "    df1 = dataframe_filtered[[\"name\", \"lat\", \"lng\", \"distance\"]]\n",
    "    df1.loc[:, 'category'] = \"Doctor\"\n",
    "\n",
    "    # Getting all Bus Stations in desired City\n",
    "\n",
    "    categoryId = '4bf58dd8d48988d1fe931735'\n",
    "    radius = 5000\n",
    "\n",
    "    url = 'https://api.foursquare.com/v2/venues/search?client_id={}&client_secret={}&ll={},{}&oauth_token={}&v={}&categoryId={}&radius={}&limit={}'.format(CLIENT_ID, CLIENT_SECRET, latitude, longitude,ACCESS_TOKEN, VERSION, categoryId, radius, LIMIT)\n",
    "\n",
    "    results = requests.get(url).json()\n",
    "    venues = results['response']['venues']\n",
    "\n",
    "    dataframe = json_normalize(venues)\n",
    "\n",
    "    # keep only columns that include venue name, and anything that is associated with location\n",
    "    filtered_columns = ['name', 'categories'] + [col for col in dataframe.columns if col.startswith('location.')] + ['id']\n",
    "    dataframe_filtered = dataframe.loc[:, filtered_columns]\n",
    "\n",
    "    # function that extracts the category of the venue\n",
    "    def get_category_type(row):\n",
    "        try:\n",
    "            categories_list = row['categories']\n",
    "        except:\n",
    "            categories_list = row['venue.categories']\n",
    "        if len(categories_list) == 0:\n",
    "            return None\n",
    "        else:\n",
    "            return categories_list[0]['name']\n",
    "\n",
    "    # filter the category for each row\n",
    "    dataframe_filtered['categories'] = dataframe_filtered.apply(get_category_type, axis=1)\n",
    "\n",
    "    # clean column names by keeping only last term\n",
    "    dataframe_filtered.columns = [column.split('.')[-1] for column in dataframe_filtered.columns]\n",
    "\n",
    "    df2 = dataframe_filtered[[\"name\", \"lat\", \"lng\", \"distance\"]]\n",
    "    df2.loc[:, 'category'] = 'Bus Station'\n",
    "\n",
    "    # Converting lat & lon to radians\n",
    "\n",
    "    df1[['lat_radians_A','long_radians_A']] = (\n",
    "    np.radians(df1.loc[:,['lat','lng']]))\n",
    "\n",
    "    df2[['lat_radians_B','long_radians_B']] = (\n",
    "    np.radians(df2.loc[:,['lat','lng']]))\n",
    "\n",
    "    df1 = df1.rename(columns={'name': \"Doctor\"})\n",
    "    df2 = df2.rename(columns={'name': \"Bus Station\"})\n",
    "\n",
    "\n",
    "    # Calculate distance using haversine formular in sklearn\n",
    "    # 6371 -> earth radius in km & will return distance between locationss in km\n",
    "    dist = sklearn.neighbors.DistanceMetric.get_metric('haversine')\n",
    "    dist_matrix = (dist.pairwise\n",
    "    (df1[['lat_radians_A','long_radians_A']],\n",
    "     df2[['lat_radians_B','long_radians_B']])*6371)\n",
    "\n",
    "    df_dist_matrix = (\n",
    "    pd.DataFrame(dist_matrix,index=df1['Doctor'], \n",
    "                 columns=df2['Bus Station']))\n",
    "\n",
    "\n",
    "\n",
    "    df_dist_long = (pd.melt(df_dist_matrix.reset_index(),id_vars='Doctor'))\n",
    "    df_dist_long = df_dist_long.rename(columns={'value':'km'})\n",
    "\n",
    "    df_dist_long [\"city\"] = city\n",
    "    city = df_dist_long.sort_values(by='km').drop_duplicates(['Doctor'], keep='first')\n",
    "    city = pd.DataFrame(city)\n",
    "\n",
    "    return city"
   ]
  },
  {
   "cell_type": "markdown",
   "metadata": {},
   "source": [
    "### Run function for various cities\n",
    "### Merge resulting dataframes"
   ]
  },
  {
   "cell_type": "code",
   "execution_count": 69,
   "metadata": {},
   "outputs": [
    {
     "name": "stdout",
     "output_type": "stream",
     "text": [
      "51.0493286 13.7381437\n"
     ]
    },
    {
     "name": "stderr",
     "output_type": "stream",
     "text": [
      "C:\\Users\\Jan\\anaconda3\\lib\\site-packages\\pandas\\core\\indexing.py:1596: SettingWithCopyWarning: \n",
      "A value is trying to be set on a copy of a slice from a DataFrame.\n",
      "Try using .loc[row_indexer,col_indexer] = value instead\n",
      "\n",
      "See the caveats in the documentation: https://pandas.pydata.org/pandas-docs/stable/user_guide/indexing.html#returning-a-view-versus-a-copy\n",
      "  self.obj[key] = _infer_fill_value(value)\n",
      "C:\\Users\\Jan\\anaconda3\\lib\\site-packages\\pandas\\core\\indexing.py:1765: SettingWithCopyWarning: \n",
      "A value is trying to be set on a copy of a slice from a DataFrame.\n",
      "Try using .loc[row_indexer,col_indexer] = value instead\n",
      "\n",
      "See the caveats in the documentation: https://pandas.pydata.org/pandas-docs/stable/user_guide/indexing.html#returning-a-view-versus-a-copy\n",
      "  isetter(loc, value)\n",
      "C:\\Users\\Jan\\anaconda3\\lib\\site-packages\\pandas\\core\\frame.py:3065: SettingWithCopyWarning: \n",
      "A value is trying to be set on a copy of a slice from a DataFrame.\n",
      "Try using .loc[row_indexer,col_indexer] = value instead\n",
      "\n",
      "See the caveats in the documentation: https://pandas.pydata.org/pandas-docs/stable/user_guide/indexing.html#returning-a-view-versus-a-copy\n",
      "  self[k1] = value[k2]\n"
     ]
    },
    {
     "name": "stdout",
     "output_type": "stream",
     "text": [
      "51.3406321 12.3747329\n",
      "50.8322608 12.9252977\n",
      "54.0924445 12.1286127\n",
      "52.4009309 13.0591397\n",
      "52.266837 8.049741\n",
      "53.1389753 8.2146017\n",
      "51.434999 6.759562\n",
      "54.3227085 10.135555\n",
      "52.3744779 9.7385532\n"
     ]
    },
    {
     "data": {
      "text/html": [
       "<div>\n",
       "<style scoped>\n",
       "    .dataframe tbody tr th:only-of-type {\n",
       "        vertical-align: middle;\n",
       "    }\n",
       "\n",
       "    .dataframe tbody tr th {\n",
       "        vertical-align: top;\n",
       "    }\n",
       "\n",
       "    .dataframe thead th {\n",
       "        text-align: right;\n",
       "    }\n",
       "</style>\n",
       "<table border=\"1\" class=\"dataframe\">\n",
       "  <thead>\n",
       "    <tr style=\"text-align: right;\">\n",
       "      <th></th>\n",
       "      <th>Doctor</th>\n",
       "      <th>Bus Station</th>\n",
       "      <th>km</th>\n",
       "      <th>city</th>\n",
       "      <th>Part</th>\n",
       "    </tr>\n",
       "  </thead>\n",
       "  <tbody>\n",
       "    <tr>\n",
       "      <th>0</th>\n",
       "      <td>Arztpraxis Dr. Bettina Rädel</td>\n",
       "      <td>Linie 61</td>\n",
       "      <td>0.054250</td>\n",
       "      <td>Dresden</td>\n",
       "      <td>East</td>\n",
       "    </tr>\n",
       "    <tr>\n",
       "      <th>1</th>\n",
       "      <td>Praxis Dr. K.Reißmann</td>\n",
       "      <td>H Wilder Mann</td>\n",
       "      <td>0.140030</td>\n",
       "      <td>Dresden</td>\n",
       "      <td>East</td>\n",
       "    </tr>\n",
       "    <tr>\n",
       "      <th>2</th>\n",
       "      <td>Ärztehaus</td>\n",
       "      <td>Koblenzerstraße</td>\n",
       "      <td>0.200504</td>\n",
       "      <td>Dresden</td>\n",
       "      <td>East</td>\n",
       "    </tr>\n",
       "    <tr>\n",
       "      <th>3</th>\n",
       "      <td>Gemeinschaftspraxis Für Nuklearmedizin - Fuchs...</td>\n",
       "      <td>Linie 94</td>\n",
       "      <td>0.330595</td>\n",
       "      <td>Dresden</td>\n",
       "      <td>East</td>\n",
       "    </tr>\n",
       "    <tr>\n",
       "      <th>4</th>\n",
       "      <td>Dr. Ballmann, Dr. Goecke</td>\n",
       "      <td>Linie 61</td>\n",
       "      <td>0.340815</td>\n",
       "      <td>Dresden</td>\n",
       "      <td>East</td>\n",
       "    </tr>\n",
       "  </tbody>\n",
       "</table>\n",
       "</div>"
      ],
      "text/plain": [
       "                                              Doctor      Bus Station  \\\n",
       "0                       Arztpraxis Dr. Bettina Rädel         Linie 61   \n",
       "1                              Praxis Dr. K.Reißmann    H Wilder Mann   \n",
       "2                                          Ärztehaus  Koblenzerstraße   \n",
       "3  Gemeinschaftspraxis Für Nuklearmedizin - Fuchs...         Linie 94   \n",
       "4                           Dr. Ballmann, Dr. Goecke         Linie 61   \n",
       "\n",
       "         km     city  Part  \n",
       "0  0.054250  Dresden  East  \n",
       "1  0.140030  Dresden  East  \n",
       "2  0.200504  Dresden  East  \n",
       "3  0.330595  Dresden  East  \n",
       "4  0.340815  Dresden  East  "
      ]
     },
     "execution_count": 69,
     "metadata": {},
     "output_type": "execute_result"
    }
   ],
   "source": [
    "Dresden = Citydata(\"Dresden\")\n",
    "Leipzig = Citydata(\"Leipzig\")\n",
    "Chemnitz = Citydata(\"Chemnitz\")\n",
    "Rostock = Citydata(\"Rostock\")\n",
    "Potsdam = Citydata(\"Potsdam\")\n",
    "\n",
    "Osnabrück = Citydata(\"Osnabrueck\")\n",
    "Oldenburg = Citydata(\"Oldenburg\")\n",
    "Duisburg = Citydata(\"Duisburg\")\n",
    "Kiel = Citydata(\"Kiel\")\n",
    "Hannover = Citydata(\"Hannover\")\n",
    "\n",
    "### Create dataframes for each part in Germany\n",
    "East = pd.concat([Dresden, Leipzig, Chemnitz, Rostock, Potsdam], ignore_index=True, sort=False)\n",
    "West = pd.concat([Oldenburg, Osnabrück, Duisburg, Kiel, Hannover], ignore_index=True, sort=False)\n",
    "\n",
    "### Merge dataframes to compare East and West Germany\n",
    "East[\"Part\"] = \"East\"\n",
    "West[\"Part\"] = \"West\"\n",
    "DE = pd.concat([East, West], ignore_index=True, sort=False)\n",
    "DE.head()"
   ]
  },
  {
   "cell_type": "code",
   "execution_count": 83,
   "metadata": {},
   "outputs": [
    {
     "data": {
      "image/png": "[encoded data removed]",
      "text/plain": [
       "<Figure size 432x288 with 1 Axes>"
      ]
     },
     "metadata": {
      "needs_background": "light"
     },
     "output_type": "display_data"
    }
   ],
   "source": [
    "blubb = sns.boxplot(x=\"city\", y=\"km\", data=West)\n",
    "ax.set(xlabel = None)\n",
    "ax.set(ylabel = None)\n",
    "ax.figure.savefig(\"East.png\", dpi = 800)\n"
   ]
  },
  {
   "cell_type": "code",
   "execution_count": 71,
   "metadata": {},
   "outputs": [
    {
     "data": {
      "image/png": "[encoded data removed]",
      "text/plain": [
       "<Figure size 432x288 with 1 Axes>"
      ]
     },
     "metadata": {
      "needs_background": "light"
     },
     "output_type": "display_data"
    }
   ],
   "source": [
    "blubb = sns.boxplot(x=\"city\", y=\"km\", data=West)\n",
    "ax.set(xlabel = None)\n",
    "ax.set(ylabel = None)\n",
    "ax.figure.savefig(\"East.png\", dpi = 800)\n"
   ]
  },
  {
   "cell_type": "code",
   "execution_count": 73,
   "metadata": {},
   "outputs": [
    {
     "data": {
      "image/png": "[encoded data removed]",
      "text/plain": [
       "<Figure size 432x288 with 1 Axes>"
      ]
     },
     "metadata": {
      "needs_background": "light"
     },
     "output_type": "display_data"
    }
   ],
   "source": [
    "blubb = sns.boxplot(x=\"city\", y=\"km\", data=West)\n",
    "ax.set(xlabel = None)\n",
    "ax.set(ylabel = None)\n",
    "ax.figure.savefig(\"East.png\", dpi = 800)\n"
   ]
  },
  {
   "cell_type": "code",
   "execution_count": null,
   "metadata": {},
   "outputs": [],
   "source": []
  }
 ],
 "metadata": {
  "kernelspec": {
   "display_name": "Python 3",
   "language": "python",
   "name": "python3"
  },
  "language_info": {
   "codemirror_mode": {
    "name": "ipython",
    "version": 3
   },
   "file_extension": ".py",
   "mimetype": "text/x-python",
   "name": "python",
   "nbconvert_exporter": "python",
   "pygments_lexer": "ipython3",
   "version": "3.8.5"
  }
 },
 "nbformat": 4,
 "nbformat_minor": 4
}
